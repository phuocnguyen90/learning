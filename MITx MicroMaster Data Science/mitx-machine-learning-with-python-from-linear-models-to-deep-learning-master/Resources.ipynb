{
  "nbformat": 4,
  "nbformat_minor": 0,
  "metadata": {
    "colab": {
      "name": "Resources.ipynb",
      "version": "0.3.2",
      "provenance": [],
      "collapsed_sections": [],
      "include_colab_link": true
    },
    "kernelspec": {
      "name": "python3",
      "display_name": "Python 3"
    },
    "accelerator": "GPU"
  },
  "cells": [
    {
      "cell_type": "markdown",
      "metadata": {
        "id": "view-in-github",
        "colab_type": "text"
      },
      "source": [
        "<a href=\"https://colab.research.google.com/github/Data-Science-and-Data-Analytics-Courses/MITx---Machine-Learning-with-Python-From-Linear-Models-to-Deep-Learning-Jun-11-2019/blob/master/Resources.ipynb\" target=\"_parent\"><img src=\"https://colab.research.google.com/assets/colab-badge.svg\" alt=\"Open In Colab\"/></a>"
      ]
    },
    {
      "cell_type": "markdown",
      "metadata": {
        "id": "fRrOetKsg-RC",
        "colab_type": "text"
      },
      "source": [
        "# Resources\n",
        "\n",
        "---\n",
        "\n"
      ]
    },
    {
      "cell_type": "markdown",
      "metadata": {
        "colab_type": "text",
        "id": "NFlCab3fJ3Gf"
      },
      "source": [
        "## Setup"
      ]
    },
    {
      "cell_type": "code",
      "metadata": {
        "colab_type": "code",
        "id": "jRKJaR9MaOqt",
        "colab": {}
      },
      "source": [
        "import sys\n",
        "from pathlib import Path\n",
        "from google.colab import drive\n",
        "\n",
        "# Drive\n",
        "DRIVE = Path(\"/drive\", \"My Drive\")\n",
        "drive.mount(DRIVE.parent.as_posix())\n",
        "AUTHFILE_GIT = DRIVE / \"GitHub/login.json\" # path to GitHub authentication file\n",
        "\n",
        "# Notebook Library\n",
        "url = \"https://github.com/Data-Science-and-Data-Analytics-Courses/Notebook-Library\"\n",
        "repo = Path(\"/nblib\")\n",
        "!git clone \"{url}\" \"{repo}\"\n",
        "if repo.parent.as_posix() not in sys.path:\n",
        "  sys.path.append(repo.parent.as_posix())\n",
        "%run \"{repo}/.Importable.ipynb\"\n",
        "\n",
        "from nblib.imports.Basic import *\n",
        "from nblib import Git\n",
        "\n",
        "# Remote\n",
        "URL = \"https://github.com/Data-Science-and-Data-Analytics-Courses/MITx---Machine-Learning-with-Python-From-Linear-Models-to-Deep-Learning-Jun-11-2019\"\n",
        "REPO = Git.clone(URL, dest=\"/content\")\n",
        "if REPO.as_posix() not in sys.path:\n",
        "  sys.path.append(REPO.as_posix())\n",
        "\n",
        "# Working directory\n",
        "os.chdir(REPO)\n",
        "\n",
        "from nblib.imports.DS import *\n",
        "from setup.Setup import *\n",
        "from nblib import File\n",
        "\n",
        "CONFILE_GIT = DRIVE / CONFILE_GIT_REL # path to GitHub configuration file\n",
        "AUTHFILE_UM = DRIVE / AUTHFILE_UM_REL # path to UniMelb authentication file\n",
        "\n",
        "clear_output()"
      ],
      "execution_count": 0,
      "outputs": []
    },
    {
      "cell_type": "markdown",
      "metadata": {
        "colab_type": "text",
        "id": "4ohR5YNbcNHF"
      },
      "source": [
        "## Documents\n",
        "[Introduction to ML packages (part 1)](https://github.com/Varal7/ml-tutorial/blob/master/Part1.ipynb)  \n",
        "[Introduction to ML packages (part 2)](https://nbviewer.jupyter.org/github/Varal7/ml-tutorial/blob/master/Part2.ipynb)  \n",
        "[Perceptron Mistake Bounds](https://arxiv.org/pdf/1305.0208.pdf)  \n"
      ]
    },
    {
      "cell_type": "code",
      "metadata": {
        "colab_type": "code",
        "outputId": "36b74448-d31b-40f0-8a28-553d468f959f",
        "id": "i9CwJupJcNHm",
        "colab": {
          "base_uri": "https://localhost:8080/",
          "height": 204
        }
      },
      "source": [
        "docdir = REPO / \"documents\"\n",
        "\n",
        "# Overview\n",
        "dest = docdir / \"overview\"\n",
        "urls = {\"resources_calendar_2T2019.pdf\": \"https://courses.edx.org/asset-v1:MITx+6.86x+1T2019+type@asset+block@resources_calendar_2T2019.pdf\",\n",
        "        \"resources_syllabus_schedule_2T2019.pdf\": \"https://courses.edx.org/asset-v1:MITx+6.86x+1T2019+type@asset+block@resources_syllabus_schedule_2T2019.pdf\"}\n",
        "for name, url in urls.items():\n",
        "  File.download(url, dest=dest, name=name)\n",
        "  \n",
        "# Lectures\n",
        "dest = docdir / \"lectures\"\n",
        "urls = {\"slides_lecture1.pdf\": \"https://courses.edx.org/asset-v1:MITx+6.86x+1T2019+type@asset+block@slides_lecture1.pdf\",\n",
        "        \"slides_lecture2.pdf\": \"https://courses.edx.org/asset-v1:MITx+6.86x+1T2019+type@asset+block@slides_lecture2.pdf\",\n",
        "        \"slides_lecture3.pdf\": \"https://courses.edx.org/asset-v1:MITx+6.86x+1T2019+type@asset+block@slides_lecture3.pdf\",\n",
        "        \"slides_lecture4.pdf\": \"https://courses.edx.org/asset-v1:MITx+6.86x+1T2019+type@asset+block@slides_lecture4.pdf\",\n",
        "        \"slides_lecture6.pdf\": \"https://courses.edx.org/asset-v1:MITx+6.86x+1T2019+type@asset+block@slides_lecture6.pdf\",\n",
        "        \"slides_lecture8.pdf\": \"https://courses.edx.org/asset-v1:MITx+6.86x+1T2019+type@asset+block@slides_lecture8.pdf\",\n",
        "        \"slides_lecture9.pdf\": \"https://courses.edx.org/asset-v1:MITx+6.86x+1T2019+type@asset+block@slides_lecture9.pdf\",\n",
        "        \"slides_lecture10.pdf\": \"https://courses.edx.org/asset-v1:MITx+6.86x+1T2019+type@asset+block@slides_lecture10.pdf\",\n",
        "        \"slides_lecture11.pdf\": \"https://courses.edx.org/asset-v1:MITx+6.86x+1T2019+type@asset+block@slides_lecture11.pdf\"}\n",
        "for name, url in urls.items():\n",
        "  File.download(url, dest=dest, name=name)"
      ],
      "execution_count": 3,
      "outputs": [
        {
          "output_type": "stream",
          "text": [
            "######################################################################## 100.0%\n",
            "######################################################################## 100.0%\n",
            "######################################################################## 100.0%\n",
            "######################################################################## 100.0%\n",
            "######################################################################## 100.0%\n",
            "######################################################################## 100.0%\n",
            "######################################################################## 100.0%\n",
            "######################################################################## 100.0%\n",
            "######################################################################## 100.0%\n",
            "######################################################################## 100.0%\n",
            "######################################################################## 100.0%\n"
          ],
          "name": "stdout"
        }
      ]
    },
    {
      "cell_type": "markdown",
      "metadata": {
        "id": "myk6EwQzjNuY",
        "colab_type": "text"
      },
      "source": [
        "## Project 0"
      ]
    },
    {
      "cell_type": "code",
      "metadata": {
        "id": "RqM6KL2jjN7K",
        "colab_type": "code",
        "colab": {}
      },
      "source": [
        "dest = REPO / \"project0\"\n",
        "urls = {\"resources_project0.tar.gz\": \"https://prod-edxapp.edx-cdn.org/assets/courseware/v1/cae5959d5cff65ed9c7fdb0c3b59ba02/asset-v1:MITx+6.86x+1T2019+type@asset+block/resources_project0.tar.gz\",\n",
        "        \"projectsolution_project0-solution.tar.gz\": \"https://courses.edx.org/asset-v1:MITx+6.86x+1T2019+type@asset+block@projectsolution_project0-solution.tar.gz\"}\n",
        "for name, url in urls.items():\n",
        "  File.runtar(url, dest=dest)"
      ],
      "execution_count": 0,
      "outputs": []
    },
    {
      "cell_type": "markdown",
      "metadata": {
        "id": "YmvXi4wkfbuF",
        "colab_type": "text"
      },
      "source": [
        "## Project 1: Automatic Review Analyzer"
      ]
    },
    {
      "cell_type": "code",
      "metadata": {
        "id": "GsOAcq4vfqDJ",
        "colab_type": "code",
        "colab": {}
      },
      "source": [
        "dest = REPO / \"project1_automatic_review_analyzer\"\n",
        "urls = {\"resources_sentiment_analysis.tar.gz\": \"https://prod-edxapp.edx-cdn.org/assets/courseware/v1/d9e1b0bf165a7c7e4458b667ea3d29d6/asset-v1:MITx+6.86x+1T2019+type@asset+block/resources_sentiment_analysis.tar.gz\",\n",
        "        \"projectsolution_sentiment_analysis-solution.tar.gz\": \"https://courses.edx.org/asset-v1:MITx+6.86x+1T2019+type@asset+block@projectsolution_sentiment_analysis-solution.tar.gz\"}\n",
        "for name, url in urls.items():\n",
        "  File.runtar(url, dest=dest)"
      ],
      "execution_count": 0,
      "outputs": []
    },
    {
      "cell_type": "markdown",
      "metadata": {
        "colab_type": "text",
        "id": "L3Z70_yRbb-U"
      },
      "source": [
        "## Project 2: Digit recognition"
      ]
    },
    {
      "cell_type": "code",
      "metadata": {
        "colab_type": "code",
        "id": "F3gM0-qUbb-a",
        "colab": {}
      },
      "source": [
        "dest = REPO / \"project2_digit_recognition\"\n",
        "urls = {\"resources_mnist.tar.gz\": \"https://prod-edxapp.edx-cdn.org/assets/courseware/v1/fe3c051c52728e9d8eafb790ffbec7e8/asset-v1:MITx+6.86x+1T2019+type@asset+block/resources_mnist.tar.gz\"}\n",
        "for name, url in urls.items():\n",
        "  File.runtar(url, dest=dest)"
      ],
      "execution_count": 0,
      "outputs": []
    },
    {
      "cell_type": "markdown",
      "metadata": {
        "id": "7ILM4JyuLzue",
        "colab_type": "text"
      },
      "source": [
        "## Push repository"
      ]
    },
    {
      "cell_type": "code",
      "metadata": {
        "id": "RqifDMhBglwC",
        "colab_type": "code",
        "outputId": "f3dca00b-2b2a-434f-fcea-a758343abff1",
        "colab": {
          "base_uri": "https://localhost:8080/",
          "height": 1000
        }
      },
      "source": [
        "message = \"Update project0, project1, project2\"\n",
        "\n",
        "# Configure\n",
        "Git.config(confile=CONFILE_GIT)\n",
        "\n",
        "# Track\n",
        "!git add -A\n",
        "\n",
        "# Commit\n",
        "!git commit -m \"{message}\"\n",
        "\n",
        "# Push\n",
        "Git.push(URL, authfile=AUTHFILE_GIT)"
      ],
      "execution_count": 37,
      "outputs": [
        {
          "output_type": "stream",
          "text": [
            "[master 245424c] Update project0, project1, project2\n",
            " 164 files changed, 0 insertions(+), 0 deletions(-)\n",
            " rename {Project 0 => project0}/debug.py (100%)\n",
            " rename {Project 0 => project0}/main.py (100%)\n",
            " rename {Project 0 => project0}/project0-solution/debug.py (100%)\n",
            " rename {Project 0 => project0}/project0-solution/main.py (100%)\n",
            " rename {Project 0 => project0}/project0/debug.py (100%)\n",
            " rename {Project 0 => project0}/project0/main.py (100%)\n",
            " rename {Project 0 => project0}/project0/test.py (100%)\n",
            " rename {Project 0 => project0}/test.py (100%)\n",
            " rename {Project 1: Automatic Review Analyzer => project1_automatic_review_analyzer}/Project1_Algorithms.ipynb (100%)\n",
            " rename {Project 1: Automatic Review Analyzer => project1_automatic_review_analyzer}/Project1_Automatic_Review_Analyzer.ipynb (100%)\n",
            " rename {Project 1: Automatic Review Analyzer => project1_automatic_review_analyzer}/sentiment_analysis-solution/200.txt (100%)\n",
            " rename {Project 1: Automatic Review Analyzer => project1_automatic_review_analyzer}/sentiment_analysis-solution/4000.txt (100%)\n",
            " rename {Project 1: Automatic Review Analyzer => project1_automatic_review_analyzer}/sentiment_analysis-solution/main.py (100%)\n",
            " rename {Project 1: Automatic Review Analyzer => project1_automatic_review_analyzer}/sentiment_analysis-solution/project1.py (100%)\n",
            " rename {Project 1: Automatic Review Analyzer => project1_automatic_review_analyzer}/sentiment_analysis-solution/reviews_submit.tsv (100%)\n",
            " rename {Project 1: Automatic Review Analyzer => project1_automatic_review_analyzer}/sentiment_analysis-solution/reviews_test.tsv (100%)\n",
            " rename {Project 1: Automatic Review Analyzer => project1_automatic_review_analyzer}/sentiment_analysis-solution/reviews_train.tsv (100%)\n",
            " rename {Project 1: Automatic Review Analyzer => project1_automatic_review_analyzer}/sentiment_analysis-solution/reviews_val.tsv (100%)\n",
            " rename {Project 1: Automatic Review Analyzer => project1_automatic_review_analyzer}/sentiment_analysis-solution/stopwords.txt (100%)\n",
            " rename {Project 1: Automatic Review Analyzer => project1_automatic_review_analyzer}/sentiment_analysis-solution/test.py (100%)\n",
            " rename {Project 1: Automatic Review Analyzer => project1_automatic_review_analyzer}/sentiment_analysis-solution/tmp_project1.py (100%)\n",
            " rename {Project 1: Automatic Review Analyzer => project1_automatic_review_analyzer}/sentiment_analysis-solution/toy_data.tsv (100%)\n",
            " rename {Project 1: Automatic Review Analyzer => project1_automatic_review_analyzer}/sentiment_analysis-solution/utils.py (100%)\n",
            " rename {Project 1: Automatic Review Analyzer => project1_automatic_review_analyzer}/sentiment_analysis/200.txt (100%)\n",
            " rename {Project 1: Automatic Review Analyzer => project1_automatic_review_analyzer}/sentiment_analysis/4000.txt (100%)\n",
            " rename {Project 1: Automatic Review Analyzer => project1_automatic_review_analyzer}/sentiment_analysis/main.py (100%)\n",
            " rename {Project 1: Automatic Review Analyzer => project1_automatic_review_analyzer}/sentiment_analysis/project1.py (100%)\n",
            " rename {Project 1: Automatic Review Analyzer => project1_automatic_review_analyzer}/sentiment_analysis/reviews_submit.tsv (100%)\n",
            " rename {Project 1: Automatic Review Analyzer => project1_automatic_review_analyzer}/sentiment_analysis/reviews_test.tsv (100%)\n",
            " rename {Project 1: Automatic Review Analyzer => project1_automatic_review_analyzer}/sentiment_analysis/reviews_train.tsv (100%)\n",
            " rename {Project 1: Automatic Review Analyzer => project1_automatic_review_analyzer}/sentiment_analysis/reviews_val.tsv (100%)\n",
            " rename {Project 1: Automatic Review Analyzer => project1_automatic_review_analyzer}/sentiment_analysis/stopwords.txt (100%)\n",
            " rename {Project 1: Automatic Review Analyzer => project1_automatic_review_analyzer}/sentiment_analysis/test.py (100%)\n",
            " rename {Project 1: Automatic Review Analyzer => project1_automatic_review_analyzer}/sentiment_analysis/toy_data.tsv (100%)\n",
            " rename {Project 1: Automatic Review Analyzer => project1_automatic_review_analyzer}/sentiment_analysis/utils.py (100%)\n",
            " rename {Project 2: Digit recognition (Part 1) => project2_digit_recognition}/Linear_Regression.ipynb (100%)\n",
            " rename {Project 2: Digit recognition (Part 1) => project2_digit_recognition}/Multinomial_Regression.ipynb (100%)\n",
            " rename {Project 2: Digit recognition (Part 1) => project2_digit_recognition}/PCA.ipynb (100%)\n",
            " rename {Project 2: Digit recognition (Part 1) => project2_digit_recognition}/Support_Vector_Machine.ipynb (100%)\n",
            " rename {Project 2: Digit recognition (Part 1) => project2_digit_recognition}/mnist/.DS_Store (100%)\n",
            " rename {Project 2: Digit recognition (Part 1) => project2_digit_recognition}/mnist/._.DS_Store (100%)\n",
            " rename {Project 2: Digit recognition (Part 1) => project2_digit_recognition}/mnist/Datasets/mnist.pkl.gz (100%)\n",
            " rename {Project 2: Digit recognition (Part 1) => project2_digit_recognition}/mnist/Datasets/test_labels_mini.txt.gz (100%)\n",
            " rename {Project 2: Digit recognition (Part 1) => project2_digit_recognition}/mnist/Datasets/test_multi_digit_mini.pkl.gz (100%)\n",
            " rename {Project 2: Digit recognition (Part 1) => project2_digit_recognition}/mnist/Datasets/train_labels_mini.txt.gz (100%)\n",
            " rename {Project 2: Digit recognition (Part 1) => project2_digit_recognition}/mnist/Datasets/train_multi_digit_mini.pkl.gz (100%)\n",
            " rename {Project 2: Digit recognition (Part 1) => project2_digit_recognition}/mnist/part1/cubic_features_checker.py (100%)\n",
            " rename {Project 2: Digit recognition (Part 1) => project2_digit_recognition}/mnist/part1/features.py (100%)\n",
            " rename {Project 2: Digit recognition (Part 1) => project2_digit_recognition}/mnist/part1/kernel.py (100%)\n",
            " rename {Project 2: Digit recognition (Part 1) => project2_digit_recognition}/mnist/part1/linear_regression.py (100%)\n",
            " rename {Project 2: Digit recognition (Part 1) => project2_digit_recognition}/mnist/part1/main.py (100%)\n",
            " rename {Project 2: Digit recognition (Part 1) => project2_digit_recognition}/mnist/part1/softmax.py (100%)\n",
            " rename {Project 2: Digit recognition (Part 1) => project2_digit_recognition}/mnist/part1/svm.py (100%)\n",
            " rename {Project 2: Digit recognition (Part 1) => project2_digit_recognition}/mnist/part1/test.py (100%)\n",
            " rename {Project 2: Digit recognition (Part 1) => project2_digit_recognition}/mnist/part2-mnist/nnet_cnn.py (100%)\n",
            " rename {Project 2: Digit recognition (Part 1) => project2_digit_recognition}/mnist/part2-mnist/nnet_fc.py (100%)\n",
            " rename {Project 2: Digit recognition (Part 1) => project2_digit_recognition}/mnist/part2-mnist/train_utils.py (100%)\n",
            " rename {Project 2: Digit recognition (Part 1) => project2_digit_recognition}/mnist/part2-nn/neural_nets.py (100%)\n",
            " rename {Project 2: Digit recognition (Part 1) => project2_digit_recognition}/mnist/part2-twodigit/conv.py (100%)\n",
            " rename {Project 2: Digit recognition (Part 1) => project2_digit_recognition}/mnist/part2-twodigit/mlp.py (100%)\n",
            " rename {Project 2: Digit recognition (Part 1) => project2_digit_recognition}/mnist/part2-twodigit/sample_images/img20000.jpg (100%)\n",
            " rename {Project 2: Digit recognition (Part 1) => project2_digit_recognition}/mnist/part2-twodigit/sample_images/img20001.jpg (100%)\n",
            " rename {Project 2: Digit recognition (Part 1) => project2_digit_recognition}/mnist/part2-twodigit/sample_images/img20002.jpg (100%)\n",
            " rename {Project 2: Digit recognition (Part 1) => project2_digit_recognition}/mnist/part2-twodigit/sample_images/img20003.jpg (100%)\n",
            " rename {Project 2: Digit recognition (Part 1) => project2_digit_recognition}/mnist/part2-twodigit/sample_images/img20004.jpg (100%)\n",
            " rename {Project 2: Digit recognition (Part 1) => project2_digit_recognition}/mnist/part2-twodigit/sample_images/img20005.jpg (100%)\n",
            " rename {Project 2: Digit recognition (Part 1) => project2_digit_recognition}/mnist/part2-twodigit/sample_images/img20006.jpg (100%)\n",
            " rename {Project 2: Digit recognition (Part 1) => project2_digit_recognition}/mnist/part2-twodigit/sample_images/img20007.jpg (100%)\n",
            " rename {Project 2: Digit recognition (Part 1) => project2_digit_recognition}/mnist/part2-twodigit/sample_images/img20008.jpg (100%)\n",
            " rename {Project 2: Digit recognition (Part 1) => project2_digit_recognition}/mnist/part2-twodigit/sample_images/img20009.jpg (100%)\n",
            " rename {Project 2: Digit recognition (Part 1) => project2_digit_recognition}/mnist/part2-twodigit/sample_images/img20010.jpg (100%)\n",
            " rename {Project 2: Digit recognition (Part 1) => project2_digit_recognition}/mnist/part2-twodigit/sample_images/img20011.jpg (100%)\n",
            " rename {Project 2: Digit recognition (Part 1) => project2_digit_recognition}/mnist/part2-twodigit/sample_images/img20012.jpg (100%)\n",
            " rename {Project 2: Digit recognition (Part 1) => project2_digit_recognition}/mnist/part2-twodigit/sample_images/img20013.jpg (100%)\n",
            " rename {Project 2: Digit recognition (Part 1) => project2_digit_recognition}/mnist/part2-twodigit/sample_images/img20014.jpg (100%)\n",
            " rename {Project 2: Digit recognition (Part 1) => project2_digit_recognition}/mnist/part2-twodigit/sample_images/img20015.jpg (100%)\n",
            " rename {Project 2: Digit recognition (Part 1) => project2_digit_recognition}/mnist/part2-twodigit/sample_images/img20016.jpg (100%)\n",
            " rename {Project 2: Digit recognition (Part 1) => project2_digit_recognition}/mnist/part2-twodigit/sample_images/img20017.jpg (100%)\n",
            " rename {Project 2: Digit recognition (Part 1) => project2_digit_recognition}/mnist/part2-twodigit/sample_images/img20018.jpg (100%)\n",
            " rename {Project 2: Digit recognition (Part 1) => project2_digit_recognition}/mnist/part2-twodigit/sample_images/img20019.jpg (100%)\n",
            " rename {Project 2: Digit recognition (Part 1) => project2_digit_recognition}/mnist/part2-twodigit/sample_images/img20020.jpg (100%)\n",
            " rename {Project 2: Digit recognition (Part 1) => project2_digit_recognition}/mnist/part2-twodigit/sample_images/img20021.jpg (100%)\n",
            " rename {Project 2: Digit recognition (Part 1) => project2_digit_recognition}/mnist/part2-twodigit/sample_images/img20022.jpg (100%)\n",
            " rename {Project 2: Digit recognition (Part 1) => project2_digit_recognition}/mnist/part2-twodigit/sample_images/img20023.jpg (100%)\n",
            " rename {Project 2: Digit recognition (Part 1) => project2_digit_recognition}/mnist/part2-twodigit/sample_images/img20024.jpg (100%)\n",
            " rename {Project 2: Digit recognition (Part 1) => project2_digit_recognition}/mnist/part2-twodigit/sample_images/img20025.jpg (100%)\n",
            " rename {Project 2: Digit recognition (Part 1) => project2_digit_recognition}/mnist/part2-twodigit/sample_images/img20026.jpg (100%)\n",
            " rename {Project 2: Digit recognition (Part 1) => project2_digit_recognition}/mnist/part2-twodigit/sample_images/img20027.jpg (100%)\n",
            " rename {Project 2: Digit recognition (Part 1) => project2_digit_recognition}/mnist/part2-twodigit/sample_images/img20028.jpg (100%)\n",
            " rename {Project 2: Digit recognition (Part 1) => project2_digit_recognition}/mnist/part2-twodigit/sample_images/img20029.jpg (100%)\n",
            " rename {Project 2: Digit recognition (Part 1) => project2_digit_recognition}/mnist/part2-twodigit/sample_images/img20030.jpg (100%)\n",
            " rename {Project 2: Digit recognition (Part 1) => project2_digit_recognition}/mnist/part2-twodigit/sample_images/img20031.jpg (100%)\n",
            " rename {Project 2: Digit recognition (Part 1) => project2_digit_recognition}/mnist/part2-twodigit/sample_images/img20032.jpg (100%)\n",
            " rename {Project 2: Digit recognition (Part 1) => project2_digit_recognition}/mnist/part2-twodigit/sample_images/img20033.jpg (100%)\n",
            " rename {Project 2: Digit recognition (Part 1) => project2_digit_recognition}/mnist/part2-twodigit/sample_images/img20034.jpg (100%)\n",
            " rename {Project 2: Digit recognition (Part 1) => project2_digit_recognition}/mnist/part2-twodigit/sample_images/img20035.jpg (100%)\n",
            " rename {Project 2: Digit recognition (Part 1) => project2_digit_recognition}/mnist/part2-twodigit/sample_images/img20036.jpg (100%)\n",
            " rename {Project 2: Digit recognition (Part 1) => project2_digit_recognition}/mnist/part2-twodigit/sample_images/img20037.jpg (100%)\n",
            " rename {Project 2: Digit recognition (Part 1) => project2_digit_recognition}/mnist/part2-twodigit/sample_images/img20038.jpg (100%)\n",
            " rename {Project 2: Digit recognition (Part 1) => project2_digit_recognition}/mnist/part2-twodigit/sample_images/img20039.jpg (100%)\n",
            " rename {Project 2: Digit recognition (Part 1) => project2_digit_recognition}/mnist/part2-twodigit/sample_images/img20040.jpg (100%)\n",
            " rename {Project 2: Digit recognition (Part 1) => project2_digit_recognition}/mnist/part2-twodigit/sample_images/img20041.jpg (100%)\n",
            " rename {Project 2: Digit recognition (Part 1) => project2_digit_recognition}/mnist/part2-twodigit/sample_images/img20042.jpg (100%)\n",
            " rename {Project 2: Digit recognition (Part 1) => project2_digit_recognition}/mnist/part2-twodigit/sample_images/img20043.jpg (100%)\n",
            " rename {Project 2: Digit recognition (Part 1) => project2_digit_recognition}/mnist/part2-twodigit/sample_images/img20044.jpg (100%)\n",
            " rename {Project 2: Digit recognition (Part 1) => project2_digit_recognition}/mnist/part2-twodigit/sample_images/img20045.jpg (100%)\n",
            " rename {Project 2: Digit recognition (Part 1) => project2_digit_recognition}/mnist/part2-twodigit/sample_images/img20046.jpg (100%)\n",
            " rename {Project 2: Digit recognition (Part 1) => project2_digit_recognition}/mnist/part2-twodigit/sample_images/img20047.jpg (100%)\n",
            " rename {Project 2: Digit recognition (Part 1) => project2_digit_recognition}/mnist/part2-twodigit/sample_images/img20048.jpg (100%)\n",
            " rename {Project 2: Digit recognition (Part 1) => project2_digit_recognition}/mnist/part2-twodigit/sample_images/img20049.jpg (100%)\n",
            " rename {Project 2: Digit recognition (Part 1) => project2_digit_recognition}/mnist/part2-twodigit/sample_images/img20050.jpg (100%)\n",
            " rename {Project 2: Digit recognition (Part 1) => project2_digit_recognition}/mnist/part2-twodigit/sample_images/img20051.jpg (100%)\n",
            " rename {Project 2: Digit recognition (Part 1) => project2_digit_recognition}/mnist/part2-twodigit/sample_images/img20052.jpg (100%)\n",
            " rename {Project 2: Digit recognition (Part 1) => project2_digit_recognition}/mnist/part2-twodigit/sample_images/img20053.jpg (100%)\n",
            " rename {Project 2: Digit recognition (Part 1) => project2_digit_recognition}/mnist/part2-twodigit/sample_images/img20054.jpg (100%)\n",
            " rename {Project 2: Digit recognition (Part 1) => project2_digit_recognition}/mnist/part2-twodigit/sample_images/img20055.jpg (100%)\n",
            " rename {Project 2: Digit recognition (Part 1) => project2_digit_recognition}/mnist/part2-twodigit/sample_images/img20056.jpg (100%)\n",
            " rename {Project 2: Digit recognition (Part 1) => project2_digit_recognition}/mnist/part2-twodigit/sample_images/img20057.jpg (100%)\n",
            " rename {Project 2: Digit recognition (Part 1) => project2_digit_recognition}/mnist/part2-twodigit/sample_images/img20058.jpg (100%)\n",
            " rename {Project 2: Digit recognition (Part 1) => project2_digit_recognition}/mnist/part2-twodigit/sample_images/img20059.jpg (100%)\n",
            " rename {Project 2: Digit recognition (Part 1) => project2_digit_recognition}/mnist/part2-twodigit/sample_images/img20060.jpg (100%)\n",
            " rename {Project 2: Digit recognition (Part 1) => project2_digit_recognition}/mnist/part2-twodigit/sample_images/img20061.jpg (100%)\n",
            " rename {Project 2: Digit recognition (Part 1) => project2_digit_recognition}/mnist/part2-twodigit/sample_images/img20062.jpg (100%)\n",
            " rename {Project 2: Digit recognition (Part 1) => project2_digit_recognition}/mnist/part2-twodigit/sample_images/img20063.jpg (100%)\n",
            " rename {Project 2: Digit recognition (Part 1) => project2_digit_recognition}/mnist/part2-twodigit/sample_images/img20064.jpg (100%)\n",
            " rename {Project 2: Digit recognition (Part 1) => project2_digit_recognition}/mnist/part2-twodigit/sample_images/img20065.jpg (100%)\n",
            " rename {Project 2: Digit recognition (Part 1) => project2_digit_recognition}/mnist/part2-twodigit/sample_images/img20066.jpg (100%)\n",
            " rename {Project 2: Digit recognition (Part 1) => project2_digit_recognition}/mnist/part2-twodigit/sample_images/img20067.jpg (100%)\n",
            " rename {Project 2: Digit recognition (Part 1) => project2_digit_recognition}/mnist/part2-twodigit/sample_images/img20068.jpg (100%)\n",
            " rename {Project 2: Digit recognition (Part 1) => project2_digit_recognition}/mnist/part2-twodigit/sample_images/img20069.jpg (100%)\n",
            " rename {Project 2: Digit recognition (Part 1) => project2_digit_recognition}/mnist/part2-twodigit/sample_images/img20070.jpg (100%)\n",
            " rename {Project 2: Digit recognition (Part 1) => project2_digit_recognition}/mnist/part2-twodigit/sample_images/img20071.jpg (100%)\n",
            " rename {Project 2: Digit recognition (Part 1) => project2_digit_recognition}/mnist/part2-twodigit/sample_images/img20072.jpg (100%)\n",
            " rename {Project 2: Digit recognition (Part 1) => project2_digit_recognition}/mnist/part2-twodigit/sample_images/img20073.jpg (100%)\n",
            " rename {Project 2: Digit recognition (Part 1) => project2_digit_recognition}/mnist/part2-twodigit/sample_images/img20074.jpg (100%)\n",
            " rename {Project 2: Digit recognition (Part 1) => project2_digit_recognition}/mnist/part2-twodigit/sample_images/img20075.jpg (100%)\n",
            " rename {Project 2: Digit recognition (Part 1) => project2_digit_recognition}/mnist/part2-twodigit/sample_images/img20076.jpg (100%)\n",
            " rename {Project 2: Digit recognition (Part 1) => project2_digit_recognition}/mnist/part2-twodigit/sample_images/img20077.jpg (100%)\n",
            " rename {Project 2: Digit recognition (Part 1) => project2_digit_recognition}/mnist/part2-twodigit/sample_images/img20078.jpg (100%)\n",
            " rename {Project 2: Digit recognition (Part 1) => project2_digit_recognition}/mnist/part2-twodigit/sample_images/img20079.jpg (100%)\n",
            " rename {Project 2: Digit recognition (Part 1) => project2_digit_recognition}/mnist/part2-twodigit/sample_images/img20080.jpg (100%)\n",
            " rename {Project 2: Digit recognition (Part 1) => project2_digit_recognition}/mnist/part2-twodigit/sample_images/img20081.jpg (100%)\n",
            " rename {Project 2: Digit recognition (Part 1) => project2_digit_recognition}/mnist/part2-twodigit/sample_images/img20082.jpg (100%)\n",
            " rename {Project 2: Digit recognition (Part 1) => project2_digit_recognition}/mnist/part2-twodigit/sample_images/img20083.jpg (100%)\n",
            " rename {Project 2: Digit recognition (Part 1) => project2_digit_recognition}/mnist/part2-twodigit/sample_images/img20084.jpg (100%)\n",
            " rename {Project 2: Digit recognition (Part 1) => project2_digit_recognition}/mnist/part2-twodigit/sample_images/img20085.jpg (100%)\n",
            " rename {Project 2: Digit recognition (Part 1) => project2_digit_recognition}/mnist/part2-twodigit/sample_images/img20086.jpg (100%)\n",
            " rename {Project 2: Digit recognition (Part 1) => project2_digit_recognition}/mnist/part2-twodigit/sample_images/img20087.jpg (100%)\n",
            " rename {Project 2: Digit recognition (Part 1) => project2_digit_recognition}/mnist/part2-twodigit/sample_images/img20088.jpg (100%)\n",
            " rename {Project 2: Digit recognition (Part 1) => project2_digit_recognition}/mnist/part2-twodigit/sample_images/img20089.jpg (100%)\n",
            " rename {Project 2: Digit recognition (Part 1) => project2_digit_recognition}/mnist/part2-twodigit/sample_images/img20090.jpg (100%)\n",
            " rename {Project 2: Digit recognition (Part 1) => project2_digit_recognition}/mnist/part2-twodigit/sample_images/img20091.jpg (100%)\n",
            " rename {Project 2: Digit recognition (Part 1) => project2_digit_recognition}/mnist/part2-twodigit/sample_images/img20092.jpg (100%)\n",
            " rename {Project 2: Digit recognition (Part 1) => project2_digit_recognition}/mnist/part2-twodigit/sample_images/img20093.jpg (100%)\n",
            " rename {Project 2: Digit recognition (Part 1) => project2_digit_recognition}/mnist/part2-twodigit/sample_images/img20094.jpg (100%)\n",
            " rename {Project 2: Digit recognition (Part 1) => project2_digit_recognition}/mnist/part2-twodigit/sample_images/img20095.jpg (100%)\n",
            " rename {Project 2: Digit recognition (Part 1) => project2_digit_recognition}/mnist/part2-twodigit/sample_images/img20096.jpg (100%)\n",
            " rename {Project 2: Digit recognition (Part 1) => project2_digit_recognition}/mnist/part2-twodigit/sample_images/img20097.jpg (100%)\n",
            " rename {Project 2: Digit recognition (Part 1) => project2_digit_recognition}/mnist/part2-twodigit/sample_images/img20098.jpg (100%)\n",
            " rename {Project 2: Digit recognition (Part 1) => project2_digit_recognition}/mnist/part2-twodigit/sample_images/img20099.jpg (100%)\n",
            " rename {Project 2: Digit recognition (Part 1) => project2_digit_recognition}/mnist/part2-twodigit/train_utils.py (100%)\n",
            " rename {Project 2: Digit recognition (Part 1) => project2_digit_recognition}/mnist/part2-twodigit/utils_multiMNIST.py (100%)\n",
            " rename {Project 2: Digit recognition (Part 1) => project2_digit_recognition}/mnist/utils.py (100%)\n",
            " rename {Project 2: Digit recognition (Part 1) => project2_digit_recognition}/mnist/utils.py.bak (100%)\n",
            "Counting objects: 2, done.\n",
            "Delta compression using up to 2 threads.\n",
            "Compressing objects: 100% (2/2), done.\n",
            "Writing objects: 100% (2/2), 348 bytes | 348.00 KiB/s, done.\n",
            "Total 2 (delta 1), reused 0 (delta 0)\n",
            "remote: Resolving deltas: 100% (1/1), completed with 1 local object.\u001b[K\n",
            "To https://github.com/Data-Science-and-Data-Analytics-Courses/MITx---Machine-Learning-with-Python-From-Linear-Models-to-Deep-Learning-Jun-11-2019\n",
            "   f1aaa37..245424c  HEAD -> master\n"
          ],
          "name": "stdout"
        }
      ]
    }
  ]
}