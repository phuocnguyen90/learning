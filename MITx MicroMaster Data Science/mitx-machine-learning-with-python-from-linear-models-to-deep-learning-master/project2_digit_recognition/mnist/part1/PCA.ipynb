{
  "cells": [
    {
      "cell_type": "markdown",
      "metadata": {
        "colab_type": "text",
        "id": "view-in-github"
      },
      "source": [
        "<a href=\"https://colab.research.google.com/github/Data-Science-and-Data-Analytics-Courses/MITx---Machine-Learning-with-Python-From-Linear-Models-to-Deep-Learning-Jun-11-2019/blob/master/Project%202%3A%20Digit%20recognition%20(Part%201)/PCA.ipynb\" target=\"_parent\"><img src=\"https://colab.research.google.com/assets/colab-badge.svg\" alt=\"Open In Colab\"/></a>"
      ]
    },
    {
      "cell_type": "markdown",
      "metadata": {
        "colab_type": "text",
        "id": "-jKf749g6256"
      },
      "source": [
        "# Dimensionality Reduction Using PCA\n",
        "\n",
        "\n",
        "\n",
        "---\n",
        "\n"
      ]
    },
    {
      "cell_type": "markdown",
      "metadata": {
        "colab_type": "text",
        "id": "LiqX2dH_HnE0"
      },
      "source": [
        "## Setup"
      ]
    },
    {
      "cell_type": "code",
      "execution_count": 1,
      "metadata": {
        "colab": {
          "base_uri": "https://localhost:8080/",
          "height": 523
        },
        "colab_type": "code",
        "id": "Xw3SOTRf9Nz_",
        "outputId": "23b7daa9-c046-4cab-b629-18b105b54919"
      },
      "outputs": [
        {
          "name": "stdout",
          "output_type": "stream",
          "text": [
            "Cloning into '/nblib'...\n",
            "remote: Enumerating objects: 32, done.\u001b[K\n",
            "remote: Counting objects:   3% (1/32)   \u001b[K\rremote: Counting objects:   6% (2/32)   \u001b[K\rremote: Counting objects:   9% (3/32)   \u001b[K\rremote: Counting objects:  12% (4/32)   \u001b[K\rremote: Counting objects:  15% (5/32)   \u001b[K\rremote: Counting objects:  18% (6/32)   \u001b[K\rremote: Counting objects:  21% (7/32)   \u001b[K\rremote: Counting objects:  25% (8/32)   \u001b[K\rremote: Counting objects:  28% (9/32)   \u001b[K\rremote: Counting objects:  31% (10/32)   \u001b[K\rremote: Counting objects:  34% (11/32)   \u001b[K\rremote: Counting objects:  37% (12/32)   \u001b[K\rremote: Counting objects:  40% (13/32)   \u001b[K\rremote: Counting objects:  43% (14/32)   \u001b[K\rremote: Counting objects:  46% (15/32)   \u001b[K\rremote: Counting objects:  50% (16/32)   \u001b[K\rremote: Counting objects:  53% (17/32)   \u001b[K\rremote: Counting objects:  56% (18/32)   \u001b[K\rremote: Counting objects:  59% (19/32)   \u001b[K\rremote: Counting objects:  62% (20/32)   \u001b[K\rremote: Counting objects:  65% (21/32)   \u001b[K\rremote: Counting objects:  68% (22/32)   \u001b[K\rremote: Counting objects:  71% (23/32)   \u001b[K\rremote: Counting objects:  75% (24/32)   \u001b[K\rremote: Counting objects:  78% (25/32)   \u001b[K\rremote: Counting objects:  81% (26/32)   \u001b[K\rremote: Counting objects:  84% (27/32)   \u001b[K\rremote: Counting objects:  87% (28/32)   \u001b[K\rremote: Counting objects:  90% (29/32)   \u001b[K\rremote: Counting objects:  93% (30/32)   \u001b[K\rremote: Counting objects:  96% (31/32)   \u001b[K\rremote: Counting objects: 100% (32/32)   \u001b[K\rremote: Counting objects: 100% (32/32), done.\u001b[K\n",
            "remote: Compressing objects:   3% (1/29)   \u001b[K\rremote: Compressing objects:   6% (2/29)   \u001b[K\rremote: Compressing objects:  10% (3/29)   \u001b[K\rremote: Compressing objects:  13% (4/29)   \u001b[K\rremote: Compressing objects:  17% (5/29)   \u001b[K\rremote: Compressing objects:  20% (6/29)   \u001b[K\rremote: Compressing objects:  24% (7/29)   \u001b[K\rremote: Compressing objects:  27% (8/29)   \u001b[K\rremote: Compressing objects:  31% (9/29)   \u001b[K\rremote: Compressing objects:  34% (10/29)   \u001b[K\rremote: Compressing objects:  37% (11/29)   \u001b[K\rremote: Compressing objects:  41% (12/29)   \u001b[K\rremote: Compressing objects:  44% (13/29)   \u001b[K\rremote: Compressing objects:  48% (14/29)   \u001b[K\rremote: Compressing objects:  51% (15/29)   \u001b[K\rremote: Compressing objects:  55% (16/29)   \u001b[K\rremote: Compressing objects:  58% (17/29)   \u001b[K\rremote: Compressing objects:  62% (18/29)   \u001b[K\rremote: Compressing objects:  65% (19/29)   \u001b[K\rremote: Compressing objects:  68% (20/29)   \u001b[K\rremote: Compressing objects:  72% (21/29)   \u001b[K\rremote: Compressing objects:  75% (22/29)   \u001b[K\rremote: Compressing objects:  79% (23/29)   \u001b[K\rremote: Compressing objects:  82% (24/29)   \u001b[K\rremote: Compressing objects:  86% (25/29)   \u001b[K\rremote: Compressing objects:  89% (26/29)   \u001b[K\rremote: Compressing objects:  93% (27/29)   \u001b[K\rremote: Compressing objects:  96% (28/29)   \u001b[K\rremote: Compressing objects: 100% (29/29)   \u001b[K\rremote: Compressing objects: 100% (29/29), done.\u001b[K\n",
            "Unpacking objects:   3% (1/32)   \rUnpacking objects:   6% (2/32)   \rUnpacking objects:   9% (3/32)   \rUnpacking objects:  12% (4/32)   \rUnpacking objects:  15% (5/32)   \rremote: Total 32 (delta 15), reused 7 (delta 2), pack-reused 0\u001b[K\n",
            "Unpacking objects:  18% (6/32)   \rUnpacking objects:  21% (7/32)   \rUnpacking objects:  25% (8/32)   \rUnpacking objects:  28% (9/32)   \rUnpacking objects:  31% (10/32)   \rUnpacking objects:  34% (11/32)   \rUnpacking objects:  37% (12/32)   \rUnpacking objects:  40% (13/32)   \rUnpacking objects:  43% (14/32)   \rUnpacking objects:  46% (15/32)   \rUnpacking objects:  50% (16/32)   \rUnpacking objects:  53% (17/32)   \rUnpacking objects:  56% (18/32)   \rUnpacking objects:  59% (19/32)   \rUnpacking objects:  62% (20/32)   \rUnpacking objects:  65% (21/32)   \rUnpacking objects:  68% (22/32)   \rUnpacking objects:  71% (23/32)   \rUnpacking objects:  75% (24/32)   \rUnpacking objects:  78% (25/32)   \rUnpacking objects:  81% (26/32)   \rUnpacking objects:  84% (27/32)   \rUnpacking objects:  87% (28/32)   \rUnpacking objects:  90% (29/32)   \rUnpacking objects:  93% (30/32)   \rUnpacking objects:  96% (31/32)   \rUnpacking objects: 100% (32/32)   \rUnpacking objects: 100% (32/32), done.\n"
          ]
        },
        {
          "data": {
            "text/html": [
              "\n",
              "<style type='text/css'>\n",
              ".hll { background-color: #ffffcc }\n",
              ".c { color: #408080; font-style: italic } /* Comment */\n",
              ".err { border: 1px solid #FF0000 } /* Error */\n",
              ".k { color: #008000; font-weight: bold } /* Keyword */\n",
              ".o { color: #666666 } /* Operator */\n",
              ".ch { color: #408080; font-style: italic } /* Comment.Hashbang */\n",
              ".cm { color: #408080; font-style: italic } /* Comment.Multiline */\n",
              ".cp { color: #BC7A00 } /* Comment.Preproc */\n",
              ".cpf { color: #408080; font-style: italic } /* Comment.PreprocFile */\n",
              ".c1 { color: #408080; font-style: italic } /* Comment.Single */\n",
              ".cs { color: #408080; font-style: italic } /* Comment.Special */\n",
              ".gd { color: #A00000 } /* Generic.Deleted */\n",
              ".ge { font-style: italic } /* Generic.Emph */\n",
              ".gr { color: #FF0000 } /* Generic.Error */\n",
              ".gh { color: #000080; font-weight: bold } /* Generic.Heading */\n",
              ".gi { color: #00A000 } /* Generic.Inserted */\n",
              ".go { color: #888888 } /* Generic.Output */\n",
              ".gp { color: #000080; font-weight: bold } /* Generic.Prompt */\n",
              ".gs { font-weight: bold } /* Generic.Strong */\n",
              ".gu { color: #800080; font-weight: bold } /* Generic.Subheading */\n",
              ".gt { color: #0044DD } /* Generic.Traceback */\n",
              ".kc { color: #008000; font-weight: bold } /* Keyword.Constant */\n",
              ".kd { color: #008000; font-weight: bold } /* Keyword.Declaration */\n",
              ".kn { color: #008000; font-weight: bold } /* Keyword.Namespace */\n",
              ".kp { color: #008000 } /* Keyword.Pseudo */\n",
              ".kr { color: #008000; font-weight: bold } /* Keyword.Reserved */\n",
              ".kt { color: #B00040 } /* Keyword.Type */\n",
              ".m { color: #666666 } /* Literal.Number */\n",
              ".s { color: #BA2121 } /* Literal.String */\n",
              ".na { color: #7D9029 } /* Name.Attribute */\n",
              ".nb { color: #008000 } /* Name.Builtin */\n",
              ".nc { color: #0000FF; font-weight: bold } /* Name.Class */\n",
              ".no { color: #880000 } /* Name.Constant */\n",
              ".nd { color: #AA22FF } /* Name.Decorator */\n",
              ".ni { color: #999999; font-weight: bold } /* Name.Entity */\n",
              ".ne { color: #D2413A; font-weight: bold } /* Name.Exception */\n",
              ".nf { color: #0000FF } /* Name.Function */\n",
              ".nl { color: #A0A000 } /* Name.Label */\n",
              ".nn { color: #0000FF; font-weight: bold } /* Name.Namespace */\n",
              ".nt { color: #008000; font-weight: bold } /* Name.Tag */\n",
              ".nv { color: #19177C } /* Name.Variable */\n",
              ".ow { color: #AA22FF; font-weight: bold } /* Operator.Word */\n",
              ".w { color: #bbbbbb } /* Text.Whitespace */\n",
              ".mb { color: #666666 } /* Literal.Number.Bin */\n",
              ".mf { color: #666666 } /* Literal.Number.Float */\n",
              ".mh { color: #666666 } /* Literal.Number.Hex */\n",
              ".mi { color: #666666 } /* Literal.Number.Integer */\n",
              ".mo { color: #666666 } /* Literal.Number.Oct */\n",
              ".sb { color: #BA2121 } /* Literal.String.Backtick */\n",
              ".sc { color: #BA2121 } /* Literal.String.Char */\n",
              ".sd { color: #BA2121; font-style: italic } /* Literal.String.Doc */\n",
              ".s2 { color: #BA2121 } /* Literal.String.Double */\n",
              ".se { color: #BB6622; font-weight: bold } /* Literal.String.Escape */\n",
              ".sh { color: #BA2121 } /* Literal.String.Heredoc */\n",
              ".si { color: #BB6688; font-weight: bold } /* Literal.String.Interpol */\n",
              ".sx { color: #008000 } /* Literal.String.Other */\n",
              ".sr { color: #BB6688 } /* Literal.String.Regex */\n",
              ".s1 { color: #BA2121 } /* Literal.String.Single */\n",
              ".ss { color: #19177C } /* Literal.String.Symbol */\n",
              ".bp { color: #008000 } /* Name.Builtin.Pseudo */\n",
              ".vc { color: #19177C } /* Name.Variable.Class */\n",
              ".vg { color: #19177C } /* Name.Variable.Global */\n",
              ".vi { color: #19177C } /* Name.Variable.Instance */\n",
              ".il { color: #666666 } /* Literal.Number.Integer.Long */\n",
              "</style>\n"
            ],
            "text/plain": [
              "<IPython.core.display.HTML object>"
            ]
          },
          "metadata": {
            "tags": []
          },
          "output_type": "display_data"
        },
        {
          "name": "stdout",
          "output_type": "stream",
          "text": [
            "importing Jupyter notebook from /nblib/Git.ipynb\n",
            "Cloning into '/content/MITx---Machine-Learning-with-Python-From-Linear-Models-to-Deep-Learning-Jun-11-2019'...\n",
            "remote: Enumerating objects: 179, done.\u001b[K\n",
            "remote: Counting objects: 100% (179/179), done.\u001b[K\n",
            "remote: Compressing objects: 100% (179/179), done.\u001b[K\n",
            "remote: Total 884 (delta 135), reused 0 (delta 0), pack-reused 705\u001b[K\n",
            "Receiving objects: 100% (884/884), 48.30 MiB | 20.25 MiB/s, done.\n",
            "Resolving deltas: 100% (477/477), done.\n",
            "importing Jupyter notebook from /content/MITx---Machine-Learning-with-Python-From-Linear-Models-to-Deep-Learning-Jun-11-2019/setup/Setup.ipynb\n"
          ]
        },
        {
          "data": {
            "image/png": "[encoded data removed]",
            "text/plain": [
              "<Figure size 432x288 with 20 Axes>"
            ]
          },
          "metadata": {
            "tags": []
          },
          "output_type": "display_data"
        }
      ],
      "source": [
        "import os, sys\n",
        "from pathlib import Path\n",
        "\n",
        "# Notebook Library\n",
        "url = \"https://github.com/Data-Science-and-Data-Analytics-Courses/Notebook-Library\"\n",
        "repo = Path(\"/nblib\")\n",
        "!git clone \"{url}\" \"{repo}\"\n",
        "if repo.parent.as_posix() not in sys.path:\n",
        "  sys.path.append(repo.parent.as_posix())\n",
        "%run \"{repo}/.Importable.ipynb\"\n",
        "\n",
        "from nblib import Git\n",
        "# Remote\n",
        "URL = \"https://github.com/Data-Science-and-Data-Analytics-Courses/MITx---Machine-Learning-with-Python-From-Linear-Models-to-Deep-Learning-Jun-11-2019\"\n",
        "REPO = Git.clone(URL, dest=\"/content\")\n",
        "if REPO.as_posix() not in sys.path:\n",
        "  sys.path.append(REPO.as_posix())\n",
        "\n",
        "# Working directory, for running modules in part1\n",
        "part1dir = REPO / \"Project 2: Digit recognition (Part 1)/mnist/part1\"\n",
        "os.chdir(part1dir)\n",
        "\n",
        "from setup.Setup import *\n",
        "import main, features, test"
      ]
    },
    {
      "cell_type": "code",
      "execution_count": 9,
      "metadata": {},
      "outputs": [
        {
          "name": "stdout",
          "output_type": "stream",
          "text": [
            "Activation function 1 (f1):\n",
            "Transformed points: [[-7 -7]\n",
            " [ 3 -7]\n",
            " [-7  3]\n",
            " [ 3  3]]\n",
            "Linearly separable: False\n",
            "\n",
            "Activation function 2 (f2):\n",
            "Transformed points: [[-1 -1]\n",
            " [ 1 -1]\n",
            " [-1  1]\n",
            " [ 1  1]]\n",
            "Linearly separable: False\n",
            "\n",
            "Activation function 3 (tanh):\n",
            "Transformed points: [[-0.76159416 -0.76159416]\n",
            " [ 0.76159416 -0.76159416]\n",
            " [-0.76159416  0.76159416]\n",
            " [ 0.76159416  0.76159416]]\n",
            "Linearly separable: False\n",
            "\n",
            "Activation function 4 (relu):\n",
            "Transformed points: [[0 0]\n",
            " [1 0]\n",
            " [0 1]\n",
            " [1 1]]\n",
            "Linearly separable: False\n",
            "\n"
          ]
        },
        {
          "name": "stderr",
          "output_type": "stream",
          "text": [
            "c:\\Users\\PC\\miniconda3\\envs\\data_venv\\lib\\site-packages\\sklearn\\svm\\_classes.py:32: FutureWarning: The default value of `dual` will change from `True` to `'auto'` in 1.5. Set the value of `dual` explicitly to suppress the warning.\n",
            "  warnings.warn(\n",
            "c:\\Users\\PC\\miniconda3\\envs\\data_venv\\lib\\site-packages\\sklearn\\svm\\_classes.py:32: FutureWarning: The default value of `dual` will change from `True` to `'auto'` in 1.5. Set the value of `dual` explicitly to suppress the warning.\n",
            "  warnings.warn(\n",
            "c:\\Users\\PC\\miniconda3\\envs\\data_venv\\lib\\site-packages\\sklearn\\svm\\_classes.py:32: FutureWarning: The default value of `dual` will change from `True` to `'auto'` in 1.5. Set the value of `dual` explicitly to suppress the warning.\n",
            "  warnings.warn(\n",
            "c:\\Users\\PC\\miniconda3\\envs\\data_venv\\lib\\site-packages\\sklearn\\svm\\_classes.py:32: FutureWarning: The default value of `dual` will change from `True` to `'auto'` in 1.5. Set the value of `dual` explicitly to suppress the warning.\n",
            "  warnings.warn(\n"
          ]
        }
      ],
      "source": [
        "import numpy as np\n",
        "from sklearn.svm import LinearSVC\n",
        "from sklearn.exceptions import ConvergenceWarning\n",
        "import warnings\n",
        "\n",
        "# Suppress convergence warnings\n",
        "warnings.filterwarnings(\"ignore\", category=ConvergenceWarning)\n",
        "\n",
        "def is_linearly_separable(X, y):\n",
        "    clf = LinearSVC(max_iter=1000000)\n",
        "    clf.fit(X, y)\n",
        "    return np.mean(clf.predict(X) == y) == 1.0\n",
        "\n",
        "# Original points and labels\n",
        "X = np.array([[-1, -1], [1, -1], [-1, 1], [1, 1]])\n",
        "y = np.array([1, -1, -1, 1])\n",
        "\n",
        "# Activation functions\n",
        "def f1(z): return 5*z - 2\n",
        "def f2(z): return z\n",
        "def tanh(z): return np.tanh(z)\n",
        "def relu(z): return np.maximum(z, 0)\n",
        "\n",
        "activation_functions = [f1, f2, tanh, relu]\n",
        "\n",
        "for i, f in enumerate(activation_functions):\n",
        "    X_transformed = f(X)\n",
        "    separable = is_linearly_separable(X_transformed, y)\n",
        "    print(f\"Activation function {i+1} ({'f1' if i==0 else 'f2' if i==1 else 'tanh' if i==2 else 'relu'}):\")\n",
        "    print(f\"Transformed points: {X_transformed}\")\n",
        "    print(f\"Linearly separable: {separable}\\n\")"
      ]
    },
    {
      "cell_type": "markdown",
      "metadata": {
        "colab_type": "text",
        "id": "fyMUmgEBogND"
      },
      "source": [
        "## Testing PCA\n"
      ]
    },
    {
      "cell_type": "code",
      "execution_count": null,
      "metadata": {
        "colab": {
          "base_uri": "https://localhost:8080/",
          "height": 300
        },
        "colab_type": "code",
        "id": "3qmHHTUkonDm",
        "outputId": "72f6d037-b90e-4ae3-f0fd-4a0fe9ec6469"
      },
      "outputs": [
        {
          "data": {
            "image/png": "[encoded data removed]",
            "text/plain": [
              "<Figure size 432x288 with 1 Axes>"
            ]
          },
          "metadata": {
            "tags": []
          },
          "output_type": "display_data"
        },
        {
          "data": {
            "text/plain": [
              "0.1483"
            ]
          },
          "execution_count": 2,
          "metadata": {
            "tags": []
          },
          "output_type": "execute_result"
        }
      ],
      "source": [
        "# 18-dimensional PCA features\n",
        "main.run_softmax_on_MNIST_pcs(temp_parameter=1)"
      ]
    },
    {
      "cell_type": "markdown",
      "metadata": {
        "colab_type": "text",
        "id": "oNgEcIxhvt-W"
      },
      "source": [
        "Use plot_PC in main.py to visualize the first 100 MNIST images, as represented in the space spanned by the first 2 principal components of the training data.\n",
        "\n"
      ]
    },
    {
      "cell_type": "code",
      "execution_count": null,
      "metadata": {
        "colab": {
          "base_uri": "https://localhost:8080/",
          "height": 283
        },
        "colab_type": "code",
        "id": "ojXFTRq4vuL9",
        "outputId": "5731703d-0ecf-4f02-8742-e94d83f7e324"
      },
      "outputs": [
        {
          "data": {
            "image/png": "[encoded data removed]",
            "text/plain": [
              "<Figure size 432x288 with 1 Axes>"
            ]
          },
          "metadata": {
            "tags": []
          },
          "output_type": "display_data"
        }
      ],
      "source": [
        "train_x = main.train_x\n",
        "train_y = main.train_y\n",
        "features.plot_PC(train_x[range(100),], main.pcs, train_y[range(100)])"
      ]
    },
    {
      "cell_type": "markdown",
      "metadata": {
        "colab_type": "text",
        "id": "033pZpYtzelv"
      },
      "source": [
        "## Cubic Features\n",
        "In this section, we will work with a cubic feature mapping which maps an input vector  x=[x1,…,xd]  into a new feature vector  ϕ(x) , defined so that for any  x,x′∈Rd :\n",
        "\n",
        "$$\n",
        "\\phi (x)^ T \\phi (x') = (x^ T x' + 1)^3\n",
        "$$\n",
        "\n"
      ]
    },
    {
      "cell_type": "markdown",
      "metadata": {
        "colab_type": "text",
        "id": "fFz1oaE400vo"
      },
      "source": [
        "### Computing Cubic Features\n",
        "In 2-D, let  x=[x1,x2] . Write down the explicit cubic feature mapping  ϕ(x)  as a vector; i.e.,  ϕ(x)=[f1(x1,x2),⋯,fN(x1,x2)]  \n"
      ]
    },
    {
      "cell_type": "code",
      "execution_count": null,
      "metadata": {
        "colab": {
          "base_uri": "https://localhost:8080/",
          "height": 289
        },
        "colab_type": "code",
        "id": "gvBWrlMxzj7L",
        "outputId": "53166ea3-ecb2-452f-ccbb-99f4ba51a6c0"
      },
      "outputs": [
        {
          "name": "stdout",
          "output_type": "stream",
          "text": [
            "[x₀ ₀  x₀ ₁]\n",
            "[x`₀ ₀  x`₀ ₁]\n",
            "    3      3         2           2               2      2              2      \n",
            "x₀ ₀ ⋅x`₀ ₀  + 3⋅x₀ ₀ ⋅x₀ ₁⋅x`₀ ₀ ⋅x`₀ ₁ + 3⋅x₀ ₀ ⋅x`₀ ₀  + 3⋅x₀ ₀⋅x₀ ₁ ⋅x`₀ ₀\n",
            "\n",
            "      2                                                3      3         2     \n",
            "⋅x`₀ ₁  + 6⋅x₀ ₀⋅x₀ ₁⋅x`₀ ₀⋅x`₀ ₁ + 3⋅x₀ ₀⋅x`₀ ₀ + x₀ ₁ ⋅x`₀ ₁  + 3⋅x₀ ₁ ⋅x`₀ \n",
            "\n",
            " 2                   \n",
            "₁  + 3⋅x₀ ₁⋅x`₀ ₁ + 1\n",
            "ϕ(x)\n",
            "⎡    3         2              2              2                             3  \n",
            "⎣x₀ ₀ , √3⋅x₀ ₀ ⋅x₀ ₁, √3⋅x₀ ₀ , √3⋅x₀ ₀⋅x₀ ₁ , √6⋅x₀ ₀⋅x₀ ₁, √3⋅x₀ ₀, x₀ ₁ , \n",
            "\n",
            "       2            ⎤\n",
            "√3⋅x₀ ₁ , √3⋅x₀ ₁, 1⎦\n"
          ]
        }
      ],
      "source": [
        "x1 = sym.Matrix(sym.symarray('x', (1, 2)))\n",
        "x2 = sym.Matrix(sym.symarray('x`', (1, 2)))\n",
        "sym.pprint(x1)\n",
        "sym.pprint(x2)\n",
        "\n",
        "x1Tx2 = (x1*x2.T)[0, 0]\n",
        "expr = (x1Tx2 + 1)**3 # ϕ(x)Tϕ(x′)\n",
        "sym.pprint(sym.expand(expr))\n",
        "\n",
        "print(\"ϕ(x)\")\n",
        "phix = sym.Matrix()\n",
        "sym.pprint([x1[0,0]**3, sym.sqrt(3)*x1[0,0]**2*x1[0,1], sym.sqrt(3)*x1[0,0]**2,\n",
        "                   sym.sqrt(3)*x1[0,0]*x1[0,1]**2, sym.sqrt(6)*x1[0,0]*x1[0,1], \n",
        "                   sym.sqrt(3)*x1[0,0], x1[0,1]**3, sym.sqrt(3)*x1[0,1]**2, sym.sqrt(3)*x1[0,1], 1])"
      ]
    },
    {
      "cell_type": "markdown",
      "metadata": {
        "colab_type": "text",
        "id": "ea-K6S6nqTX5"
      },
      "source": [
        "### Applying to MNIST\n",
        "If we explicitly apply the cubic feature mapping to the original 784-dimensional raw pixel features, the resulting representation would be of massive dimensionality. Instead, we will apply the quadratic feature mapping to the 10-dimensional PCA representation of our training data which we will have to calculate just as we calculated the 18-dimensional representation in the previous problem. After applying the cubic feature mapping to the PCA representations for both the train and test datasets, retrain the softmax regression model using these new features and report the resulting test set error below.\n",
        "\n",
        "Important: You will probably get a runtime warning for getting the log of 0, ignore. Your code should still run and perform correctly.\n",
        "\n",
        "Note: Use the same training parameters as the first softmax model given in main.py file and temperature 1.\n",
        "\n",
        "If you have done everything correctly, softmax regression should perform better (on the test set) using these features than either the 18-dimensional principal components or raw pixels. The error on the test set using cubic features should only be around 0.08, demonstrating the power of nonlinear classification models.\n",
        "\n"
      ]
    },
    {
      "cell_type": "code",
      "execution_count": 3,
      "metadata": {
        "colab": {
          "base_uri": "https://localhost:8080/",
          "height": 354
        },
        "colab_type": "code",
        "id": "cG3n1gYdqUh9",
        "outputId": "14d22dd2-28f1-414a-e0cf-f756da8303e1"
      },
      "outputs": [
        {
          "name": "stderr",
          "output_type": "stream",
          "text": [
            "/content/MITx---Machine-Learning-with-Python-From-Linear-Models-to-Deep-Learning-Jun-11-2019/Project 2: Digit recognition (Part 1)/mnist/part1/softmax.py:77: RuntimeWarning: divide by zero encountered in log\n",
            "  loss = -np.log(prob[Y, range(n)]).mean() # only account prob value for label Y(i)\n"
          ]
        },
        {
          "data": {
            "image/png": "[encoded data removed]",
            "text/plain": [
              "<Figure size 432x288 with 1 Axes>"
            ]
          },
          "metadata": {
            "tags": []
          },
          "output_type": "display_data"
        },
        {
          "data": {
            "text/plain": [
              "0.0867"
            ]
          },
          "execution_count": 3,
          "metadata": {
            "tags": []
          },
          "output_type": "execute_result"
        }
      ],
      "source": [
        "main.run_softmax_on_MNIST_cube(temp_parameter=1)"
      ]
    }
  ],
  "metadata": {
    "accelerator": "GPU",
    "colab": {
      "collapsed_sections": [],
      "include_colab_link": true,
      "name": "PCA.ipynb",
      "provenance": [],
      "version": "0.3.2"
    },
    "kernelspec": {
      "display_name": "Python 3",
      "name": "python3"
    },
    "language_info": {
      "codemirror_mode": {
        "name": "ipython",
        "version": 3
      },
      "file_extension": ".py",
      "mimetype": "text/x-python",
      "name": "python",
      "nbconvert_exporter": "python",
      "pygments_lexer": "ipython3",
      "version": "3.10.13"
    }
  },
  "nbformat": 4,
  "nbformat_minor": 0
}
